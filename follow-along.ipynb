{
 "cells": [
  {
   "cell_type": "markdown",
   "metadata": {},
   "source": [
    "## JSON; Javascript Object Notation"
   ]
  },
  {
   "cell_type": "code",
   "execution_count": 1,
   "metadata": {
    "scrolled": true
   },
   "outputs": [
    {
     "name": "stdout",
     "output_type": "stream",
     "text": [
      "README.md                          google-maps-geocoding-results.json\r\n",
      "follow-along.ipynb\r\n"
     ]
    }
   ],
   "source": [
    "# import the json library\n",
    "import json\n",
    "!ls"
   ]
  },
  {
   "cell_type": "code",
   "execution_count": 5,
   "metadata": {},
   "outputs": [
    {
     "data": {
      "text/plain": [
       "{'results': [{'address_components': [{'long_name': '708',\n",
       "     'short_name': '708',\n",
       "     'types': ['street_number']},\n",
       "    {'long_name': 'Main street', 'short_name': 'Main St', 'types': ['route']},\n",
       "    {'long_name': 'Central Business District',\n",
       "     'short_name': 'Central Business District',\n",
       "     'types': ['neighborhood', 'political']},\n",
       "    {'long_name': 'Houston',\n",
       "     'short_name': 'Houston',\n",
       "     'types': ['locality', 'political']},\n",
       "    {'long_name': 'Harris County',\n",
       "     'short_name': 'Harris County',\n",
       "     'types': ['administrative_area_level_2', 'political']},\n",
       "    {'long_name': 'Texas',\n",
       "     'short_name': 'TX',\n",
       "     'types': ['administrative_area_level_1', 'political']},\n",
       "    {'long_name': 'United States',\n",
       "     'short_name': 'US',\n",
       "     'types': ['country', 'political']},\n",
       "    {'long_name': '77002', 'short_name': '77002', 'types': ['postal_code']}],\n",
       "   'formatted_address': '708 Main St, Houston, TX 77002, USA',\n",
       "   'geometry': {'location': {'lat': 29.7590859, 'lng': -95.3636325},\n",
       "    'location_type': 'ROOFTOP',\n",
       "    'viewport': {'northeast': {'lat': 29.7604348802915,\n",
       "      'lng': -95.3622835197085},\n",
       "     'southwest': {'lat': 29.7577369197085, 'lng': -95.3649814802915}}},\n",
       "   'place_id': 'ChIJ33MU3Dq_QIYRLea64akdlgQ',\n",
       "   'plus_code': {'compound_code': 'QJ5P+JG Downtown Houston, Houston, TX, United States',\n",
       "    'global_code': '76X6QJ5P+JG'},\n",
       "   'types': ['street_address']}],\n",
       " 'status': 'OK'}"
      ]
     },
     "execution_count": 5,
     "metadata": {},
     "output_type": "execute_result"
    }
   ],
   "source": [
    "# load the json file and assign it to data\n",
    "# the file is called 'google-maps-geocoding-results.json'\n",
    "file = open('google-maps-geocoding-results.json')\n",
    "data = json.load(file)\n",
    "file.close()\n",
    "data"
   ]
  },
  {
   "cell_type": "code",
   "execution_count": 6,
   "metadata": {},
   "outputs": [
    {
     "data": {
      "text/plain": [
       "dict"
      ]
     },
     "execution_count": 6,
     "metadata": {},
     "output_type": "execute_result"
    }
   ],
   "source": [
    "# Look at the data and try to navigate it!\n",
    "type(data)\n"
   ]
  },
  {
   "cell_type": "code",
   "execution_count": 12,
   "metadata": {},
   "outputs": [
    {
     "data": {
      "text/plain": [
       "29.7590859"
      ]
     },
     "execution_count": 12,
     "metadata": {},
     "output_type": "execute_result"
    }
   ],
   "source": [
    "data['results'][0]['geometry']['location']['lat']"
   ]
  },
  {
   "cell_type": "markdown",
   "metadata": {},
   "source": [
    "## Recursion"
   ]
  },
  {
   "cell_type": "code",
   "execution_count": 17,
   "metadata": {},
   "outputs": [
    {
     "data": {
      "text/plain": [
       "6"
      ]
     },
     "execution_count": 17,
     "metadata": {},
     "output_type": "execute_result"
    }
   ],
   "source": [
    "# How would you write a function to return the factorial of a given integer?\n",
    "\n",
    "def iterative_factorial(input_num):    \n",
    "    result = 1\n",
    "    for i in range(1, input_num + 1):\n",
    "        result = result * i\n",
    "    return result\n",
    "\n",
    "iterative_factorial(3)\n"
   ]
  },
  {
   "cell_type": "code",
   "execution_count": 31,
   "metadata": {},
   "outputs": [],
   "source": [
    "# Can you figure out how to do it 'recursively'?\n",
    "\n",
    "def recursive_factorial(input_num):\n",
    "    if input_num == 1:\n",
    "        print(\"This should only be printed at the end\")\n",
    "        return 1\n",
    "    else:\n",
    "        print(\"Factorial is being called with input number = \" + str(input_num))\n",
    "        return input_num * recursive_factorial(input_num - 1)\n"
   ]
  },
  {
   "cell_type": "code",
   "execution_count": 32,
   "metadata": {},
   "outputs": [
    {
     "name": "stdout",
     "output_type": "stream",
     "text": [
      "Factorial is being called with input number = 5\n",
      "Factorial is being called with input number = 4\n",
      "Factorial is being called with input number = 3\n",
      "Factorial is being called with input number = 2\n",
      "This should only be printed at the end\n"
     ]
    },
    {
     "data": {
      "text/plain": [
       "120"
      ]
     },
     "execution_count": 32,
     "metadata": {},
     "output_type": "execute_result"
    }
   ],
   "source": [
    "recursive_factorial(5)"
   ]
  },
  {
   "cell_type": "code",
   "execution_count": null,
   "metadata": {},
   "outputs": [],
   "source": []
  }
 ],
 "metadata": {
  "kernelspec": {
   "display_name": "Python 3",
   "language": "python",
   "name": "python3"
  },
  "language_info": {
   "codemirror_mode": {
    "name": "ipython",
    "version": 3
   },
   "file_extension": ".py",
   "mimetype": "text/x-python",
   "name": "python",
   "nbconvert_exporter": "python",
   "pygments_lexer": "ipython3",
   "version": "3.7.3"
  }
 },
 "nbformat": 4,
 "nbformat_minor": 2
}
